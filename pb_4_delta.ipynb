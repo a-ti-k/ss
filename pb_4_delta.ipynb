{
  "nbformat": 4,
  "nbformat_minor": 0,
  "metadata": {
    "colab": {
      "provenance": [],
      "collapsed_sections": [],
      "authorship_tag": "ABX9TyM8gqZwZdeXN1U2pR/iZttX",
      "include_colab_link": true
    },
    "kernelspec": {
      "name": "python3",
      "display_name": "Python 3"
    },
    "language_info": {
      "name": "python"
    }
  },
  "cells": [
    {
      "cell_type": "markdown",
      "metadata": {
        "id": "view-in-github",
        "colab_type": "text"
      },
      "source": [
        "<a href=\"https://colab.research.google.com/github/Coder-Shahadat/signal_and_systems_sessional/blob/main/pb_4_delta.ipynb\" target=\"_parent\"><img src=\"https://colab.research.google.com/assets/colab-badge.svg\" alt=\"Open In Colab\"/></a>"
      ]
    },
    {
      "cell_type": "code",
      "execution_count": 3,
      "metadata": {
        "colab": {
          "base_uri": "https://localhost:8080/",
          "height": 552
        },
        "id": "rRuhWVcsGUCg",
        "outputId": "8c874d5d-ba4d-4f18-8657-a9af679d1161"
      },
      "outputs": [
        {
          "output_type": "stream",
          "name": "stderr",
          "text": [
            "/usr/local/lib/python3.7/dist-packages/ipykernel_launcher.py:14: UserWarning: In Matplotlib 3.3 individual lines on a stem plot will be added as a LineCollection instead of individual lines. This significantly improves the performance of a stem plot. To remove this warning and switch to the new behaviour, set the \"use_line_collection\" keyword argument to True.\n",
            "  \n"
          ]
        },
        {
          "output_type": "display_data",
          "data": {
            "text/plain": [
              "<Figure size 720x576 with 1 Axes>"
            ],
            "image/png": "[encoded data removed]"
          },
          "metadata": {
            "needs_background": "light"
          }
        }
      ],
      "source": [
        "import matplotlib.pyplot as plot\n",
        "import numpy as np\n",
        "\n",
        "def delta(n):\n",
        "    r = np.zeros(n.size)\n",
        "    for i in range(n.size):\n",
        "        if n[i] == 0:\n",
        "            r[i] = 1\n",
        "    return r\n",
        "\n",
        "n = np.arange(-5, 6)\n",
        "y = 2*delta(n+2) - delta(n-4)\n",
        "plot.figure(figsize=(10,8))\n",
        "plot.stem(n, y,basefmt=\"-b\")\n",
        "plot.xlabel(\"--n-->\")\n",
        "plot.ylabel(\"delta(n)\")\n",
        "plot.show()"
      ]
    }
  ]
}